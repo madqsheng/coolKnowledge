{
 "cells": [
  {
   "cell_type": "markdown",
   "metadata": {},
   "source": [
    "## 冒泡排序\n",
    "- 从右到左，逐步排序\n",
    "- 左边未排序取，右边排序区\n",
    "- 对未排序区相邻比较，极值（极大或极小）右移"
   ]
  },
  {
   "cell_type": "code",
   "execution_count": 6,
   "metadata": {},
   "outputs": [
    {
     "name": "stdout",
     "output_type": "stream",
     "text": [
      "[1, 3, 4, 4, 5, 5, 6, 8, 9, 23]\n"
     ]
    }
   ],
   "source": [
    "# 从小到大排序\n",
    "def bubble_sort(array):\n",
    "    n=len(array)\n",
    "    if n<=1:\n",
    "        return array\n",
    "    for i in range(n):\n",
    "        for j in range(n-i-1):\n",
    "            if array[j]>array[j+1]:\n",
    "                tmp=array[j]\n",
    "                array[j]=array[j+1]\n",
    "                array[j+1]=tmp\n",
    "    return array\n",
    "\n",
    "\n",
    "array=[1,5,6,8,9,3,4,23,4,5]\n",
    "array_sort=bubble_sort(array)\n",
    "print(array_sort)\n",
    "\n"
   ]
  },
  {
   "cell_type": "markdown",
   "metadata": {},
   "source": [
    "# 插入排序\n",
    "- 从左到右，左边是排序区，右边是未排序区\n",
    "- 右边未排序区逐步插入到左边的排序区\n",
    "- \n",
    "技巧：\n",
    "1. 右边未排序区里的数，跟左边排序区比较，需要遍历左边排序排序区\n",
    "2. 遍历左边排序区，应该从右到左，好处是，遍历的时候，比较一个就移动一个，不用一次移动一大块\n",
    "3. 如果遍历左边排序区，从左到左，那么遍历到插入的位置以后，需要一次性将右边的移动，肯定需要额外的空间。"
   ]
  },
  {
   "cell_type": "code",
   "execution_count": 7,
   "metadata": {},
   "outputs": [
    {
     "name": "stdout",
     "output_type": "stream",
     "text": [
      "[1, 3, 4, 4, 5, 5, 6, 8, 9, 23]\n",
      "[1, 3, 4, 4, 5, 5, 6, 8, 9, 23]\n"
     ]
    }
   ],
   "source": [
    "def insert_sort(array):\n",
    "    n=len(array)\n",
    "    for i in range(1,n):\n",
    "        insert_value=array[i]\n",
    "        for j in range(i):\n",
    "            if array[j]>insert_value:\n",
    "                #j数据后面全部右移\n",
    "                array[j+1:i+1]=array[j:i]\n",
    "                array[j]=insert_value\n",
    "                break\n",
    "    return array\n",
    "\n",
    "array=[1,5,6,8,9,3,4,23,4,5]\n",
    "array_sort=insert_sort(array)\n",
    "print(array_sort)\n",
    "\n",
    "\n",
    "def insert_sort_e(array):\n",
    "    n=len(array)\n",
    "    for i in range(1,n):\n",
    "        insert_value=array[i]\n",
    "        for j in range(i):\n",
    "            m=i-j-1\n",
    "            if array[m]>insert_value:\n",
    "                #j数据后移\n",
    "                array[m+1]=array[m]\n",
    "            else:\n",
    "                array[m+1]=insert_value\n",
    "                break\n",
    "    return array\n",
    "\n",
    "array=[1,5,6,8,9,3,4,23,4,5]\n",
    "array_sort=insert_sort_e(array)\n",
    "print(array_sort)\n"
   ]
  },
  {
   "cell_type": "markdown",
   "metadata": {},
   "source": [
    "# 选择排序\n",
    "- 从左到右区分，排序区和为排序区\n",
    "- 从未排序区找一个极值，放到排序区末尾，末尾的数据和极值位置交换"
   ]
  },
  {
   "cell_type": "code",
   "execution_count": 8,
   "metadata": {},
   "outputs": [
    {
     "name": "stdout",
     "output_type": "stream",
     "text": [
      "[1, 3, 4, 4, 5, 5, 6, 8, 9, 23]\n"
     ]
    }
   ],
   "source": [
    "def select_sort(array):\n",
    "    n=len(array)\n",
    "    for i in range(n):\n",
    "        # 未排序区\n",
    "        min_value=array[i]\n",
    "        min_index=i\n",
    "        for j in range(i,n):\n",
    "            #寻找最小值\n",
    "            if array[j]<min_value:\n",
    "                min_value=array[j]\n",
    "                min_index=j\n",
    "        # 交换\n",
    "        tmp=array[i]      \n",
    "        array[i]=min_value\n",
    "        array[min_index]=tmp\n",
    "    return array\n",
    "\n",
    "array=[1,5,6,8,9,3,4,23,4,5]\n",
    "array_sort=select_sort(array)\n",
    "print(array_sort) "
   ]
  },
  {
   "cell_type": "markdown",
   "metadata": {},
   "source": [
    "# 归并排序\n",
    "- 递归的思想：\n",
    "1. 先将数组分解\n",
    "2. 对小数组排序\n",
    "3. 小数组之间再排序（合并）\n",
    "- 小数组之间再排序的方法就是合并算法，方法是：\n",
    "1. 两个需要合并的数据，本身已经排序了\n",
    "2. 申请一个临时数组是这两个数组之和\n",
    "3. 分别用i和j指示两个数组第一个位置，比较这个两个数组i和j中数值大小，小的那一个放到临时数组，然后对应的索引后移\n",
    "4. 直到其中一个数组遍历完了，直接将另一个数组放到临时数据后面"
   ]
  },
  {
   "cell_type": "code",
   "execution_count": 9,
   "metadata": {},
   "outputs": [
    {
     "name": "stdout",
     "output_type": "stream",
     "text": [
      "[1, 2, 3, 4, 4, 5, 5, 8, 9, 23]\n"
     ]
    }
   ],
   "source": [
    "def combine_sort(array_sort_left, array_sort_right):\n",
    "    combine_array=[]\n",
    "    l = len(array_sort_left)\n",
    "    r = len(array_sort_right)\n",
    "    i,j =0,0\n",
    "    while i <l and j <r:\n",
    "        if array_sort_left[i] > array_sort_right[j]:\n",
    "            combine_array.append(array_sort_right[j])\n",
    "            j = j+1\n",
    "        else:\n",
    "            combine_array.append(array_sort_left[i])\n",
    "            i = i+1\n",
    "    \n",
    "    # 判断哪一个用完了\n",
    "    if i ==l:\n",
    "        return combine_array + array_sort_right[j:]\n",
    "    else:\n",
    "        return combine_array + array_sort_left[i:]\n",
    "\n",
    "\n",
    "# 输入数组，返回排序好的,从小到大\n",
    "def merge_sort(array):\n",
    "    n=len(array)\n",
    "    if n==1:\n",
    "        return array\n",
    "    if n==2:\n",
    "        if array[0] > array[1]:\n",
    "            return [array[1], array[0]]\n",
    "        else:\n",
    "            return array\n",
    "\n",
    "    p=int(n/2)\n",
    "    array_sort_left=merge_sort(array[:p])\n",
    "    array_sort_right=merge_sort(array[p:])\n",
    "\n",
    "    # 合并\n",
    "    combine_array = combine_sort(array_sort_left, array_sort_right)\n",
    "    return combine_array\n",
    "\n",
    "array=[8,9,5,1,2,3,4,23,4,5]\n",
    "array_sort=merge_sort(array)\n",
    "print(array_sort) "
   ]
  },
  {
   "cell_type": "markdown",
   "metadata": {},
   "source": [
    "## 快排\n",
    "- 分治的思想，递归实现\n",
    "  1. 选择一个数据pivot，小于放左边，大于放右边，pivot放中间\n",
    "  2. 左边和右边的数组继续操作1，直到数组的长度为1和2\n",
    "\n",
    "- 其中操作1：选择一个数据pivot，小于放左边，大于放右边，pivot放中间的细节：\n",
    "  1. pivot一般选择数组最后一个\n",
    "  2. 操作1是原地排序，不需要额外内存空间\n",
    "  3. 设置两个游标i和j，分别指示pivot的位置，以及数组处理过的区域\n",
    "  "
   ]
  },
  {
   "cell_type": "code",
   "execution_count": 10,
   "metadata": {},
   "outputs": [
    {
     "name": "stdout",
     "output_type": "stream",
     "text": [
      "[1, 2, 3, 4, 4, 5, 5, 8, 9, 23]\n"
     ]
    }
   ],
   "source": [
    "# 输入array，返回以及排序的数组\n",
    "def quick_sort(array):\n",
    "    n=len(array)\n",
    "    if n==1:\n",
    "        return array\n",
    "    if n==2:\n",
    "        if array[0] > array[1]:\n",
    "            return [array[1], array[0]]\n",
    "        else:\n",
    "            return array\n",
    "    \n",
    "    # 选择pivot，然后排序\n",
    "    pivot = array[-1]\n",
    "    i,j=0,0\n",
    "    while j < n-1:\n",
    "        if array[j] <= pivot:\n",
    "            # 交换位置\n",
    "            tmp=array[i]\n",
    "            array[i]=array[j]\n",
    "            array[j]=tmp \n",
    "            i=i+1           \n",
    "        j = j+1\n",
    "    # 再来一次交换\n",
    "    array[-1]=array[i]\n",
    "    array[i]=pivot\n",
    "    \n",
    "    # 最终j=n\n",
    "    # 在分解，排序\n",
    "    return quick_sort(array[:i])+quick_sort(array[i:])\n",
    "    \n",
    "array=[8,9,5,1,2,3,4,23,4,5]\n",
    "array_sort=quick_sort(array)\n",
    "print(array_sort) \n"
   ]
  },
  {
   "cell_type": "code",
   "execution_count": 11,
   "metadata": {},
   "outputs": [
    {
     "name": "stderr",
     "output_type": "stream",
     "text": [
      "<frozen genericpath>:77: RuntimeWarning: coroutine 'main' was never awaited\n",
      "RuntimeWarning: Enable tracemalloc to get the object allocation traceback\n"
     ]
    },
    {
     "ename": "RuntimeError",
     "evalue": "asyncio.run() cannot be called from a running event loop",
     "output_type": "error",
     "traceback": [
      "\u001b[1;31m---------------------------------------------------------------------------\u001b[0m",
      "\u001b[1;31mRuntimeError\u001b[0m                              Traceback (most recent call last)",
      "Cell \u001b[1;32mIn[11], line 16\u001b[0m\n\u001b[0;32m     13\u001b[0m \u001b[38;5;28;01mdef\u001b[39;00m \u001b[38;5;21mrun_main\u001b[39m():\n\u001b[0;32m     14\u001b[0m     asyncio\u001b[38;5;241m.\u001b[39mrun(main([\u001b[38;5;124m'\u001b[39m\u001b[38;5;124murl_1\u001b[39m\u001b[38;5;124m'\u001b[39m, \u001b[38;5;124m'\u001b[39m\u001b[38;5;124murl_2\u001b[39m\u001b[38;5;124m'\u001b[39m, \u001b[38;5;124m'\u001b[39m\u001b[38;5;124murl_3\u001b[39m\u001b[38;5;124m'\u001b[39m, \u001b[38;5;124m'\u001b[39m\u001b[38;5;124murl_4\u001b[39m\u001b[38;5;124m'\u001b[39m]))\n\u001b[1;32m---> 16\u001b[0m run_main()\n",
      "Cell \u001b[1;32mIn[11], line 14\u001b[0m, in \u001b[0;36mrun_main\u001b[1;34m()\u001b[0m\n\u001b[0;32m     13\u001b[0m \u001b[38;5;28;01mdef\u001b[39;00m \u001b[38;5;21mrun_main\u001b[39m():\n\u001b[1;32m---> 14\u001b[0m     asyncio\u001b[38;5;241m.\u001b[39mrun(main([\u001b[38;5;124m'\u001b[39m\u001b[38;5;124murl_1\u001b[39m\u001b[38;5;124m'\u001b[39m, \u001b[38;5;124m'\u001b[39m\u001b[38;5;124murl_2\u001b[39m\u001b[38;5;124m'\u001b[39m, \u001b[38;5;124m'\u001b[39m\u001b[38;5;124murl_3\u001b[39m\u001b[38;5;124m'\u001b[39m, \u001b[38;5;124m'\u001b[39m\u001b[38;5;124murl_4\u001b[39m\u001b[38;5;124m'\u001b[39m]))\n",
      "File \u001b[1;32md:\\anaconda3\\Lib\\asyncio\\runners.py:186\u001b[0m, in \u001b[0;36mrun\u001b[1;34m(main, debug)\u001b[0m\n\u001b[0;32m    161\u001b[0m \u001b[38;5;250m\u001b[39m\u001b[38;5;124;03m\"\"\"Execute the coroutine and return the result.\u001b[39;00m\n\u001b[0;32m    162\u001b[0m \n\u001b[0;32m    163\u001b[0m \u001b[38;5;124;03mThis function runs the passed coroutine, taking care of\u001b[39;00m\n\u001b[1;32m   (...)\u001b[0m\n\u001b[0;32m    182\u001b[0m \u001b[38;5;124;03m    asyncio.run(main())\u001b[39;00m\n\u001b[0;32m    183\u001b[0m \u001b[38;5;124;03m\"\"\"\u001b[39;00m\n\u001b[0;32m    184\u001b[0m \u001b[38;5;28;01mif\u001b[39;00m events\u001b[38;5;241m.\u001b[39m_get_running_loop() \u001b[38;5;129;01mis\u001b[39;00m \u001b[38;5;129;01mnot\u001b[39;00m \u001b[38;5;28;01mNone\u001b[39;00m:\n\u001b[0;32m    185\u001b[0m     \u001b[38;5;66;03m# fail fast with short traceback\u001b[39;00m\n\u001b[1;32m--> 186\u001b[0m     \u001b[38;5;28;01mraise\u001b[39;00m \u001b[38;5;167;01mRuntimeError\u001b[39;00m(\n\u001b[0;32m    187\u001b[0m         \u001b[38;5;124m\"\u001b[39m\u001b[38;5;124masyncio.run() cannot be called from a running event loop\u001b[39m\u001b[38;5;124m\"\u001b[39m)\n\u001b[0;32m    189\u001b[0m \u001b[38;5;28;01mwith\u001b[39;00m Runner(debug\u001b[38;5;241m=\u001b[39mdebug) \u001b[38;5;28;01mas\u001b[39;00m runner:\n\u001b[0;32m    190\u001b[0m     \u001b[38;5;28;01mreturn\u001b[39;00m runner\u001b[38;5;241m.\u001b[39mrun(main)\n",
      "\u001b[1;31mRuntimeError\u001b[0m: asyncio.run() cannot be called from a running event loop"
     ]
    }
   ],
   "source": [
    "import asyncio\n",
    "\n",
    "async def crawl_page(url):\n",
    "    print('crawling {}'.format(url))\n",
    "    sleep_time = int(url.split('_')[-1])\n",
    "    await asyncio.sleep(sleep_time)\n",
    "    print('OK {}'.format(url))\n",
    "\n",
    "async def main(urls):\n",
    "    for url in urls:\n",
    "        await crawl_page(url)\n",
    "\n",
    "def run_main():\n",
    "    asyncio.run(main(['url_1', 'url_2', 'url_3', 'url_4']))\n",
    "\n",
    "run_main()\n"
   ]
  }
 ],
 "metadata": {
  "kernelspec": {
   "display_name": "base",
   "language": "python",
   "name": "python3"
  },
  "language_info": {
   "codemirror_mode": {
    "name": "ipython",
    "version": 3
   },
   "file_extension": ".py",
   "mimetype": "text/x-python",
   "name": "python",
   "nbconvert_exporter": "python",
   "pygments_lexer": "ipython3",
   "version": "3.11.4"
  }
 },
 "nbformat": 4,
 "nbformat_minor": 2
}
