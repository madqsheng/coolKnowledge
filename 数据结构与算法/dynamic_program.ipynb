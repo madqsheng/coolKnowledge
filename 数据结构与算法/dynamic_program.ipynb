{
 "cells": [
  {
   "cell_type": "markdown",
   "metadata": {},
   "source": [
    "## 动态规划"
   ]
  },
  {
   "cell_type": "markdown",
   "metadata": {},
   "source": [
    "1. 返回最长递增子序列"
   ]
  },
  {
   "cell_type": "markdown",
   "metadata": {},
   "source": [
    "- 暴力求解\n",
    "  1. 首先要清楚规则，列举所有规则可能\n",
    "  2. 递归实现：设计一个函数，找到关系，然后函数递归"
   ]
  },
  {
   "cell_type": "code",
   "execution_count": 48,
   "metadata": {},
   "outputs": [
    {
     "name": "stdout",
     "output_type": "stream",
     "text": [
      "[4, 5, 6, 8, 9]\n"
     ]
    }
   ],
   "source": [
    "# 返回从i开始的最长递增子序列\n",
    "def max_num(array,index):\n",
    "    n=len(array)\n",
    "    if n==1:\n",
    "        return array\n",
    "    # 递归结束\n",
    "    if index==n-1:\n",
    "        return [array[index]]\n",
    "    \n",
    "    sub_array_list=[]\n",
    "    for j in range(index+1,n):\n",
    "        if array[index]<array[j]:\n",
    "            sub_array=max_num(array,j)\n",
    "            sub_array_list.append(sub_array)\n",
    "    # 找出最长的\n",
    "    max_sub_array=sorted(sub_array_list, key=lambda x:len(x))[-1]\n",
    "    # print(index,max_sub_array)\n",
    "    return [array[index]]+max_sub_array\n",
    "\n",
    "array=[5,4,7,8,5,6,4,2,8,9]\n",
    "array_list=[]\n",
    "for i in range(len(array)):\n",
    "    sub_array=max_num(array,i)\n",
    "    array_list.append(sub_array)\n",
    "\n",
    "print(sorted(array_list,key= lambda x:len(x))[-1])\n"
   ]
  }
 ],
 "metadata": {
  "kernelspec": {
   "display_name": "Python 3",
   "language": "python",
   "name": "python3"
  },
  "language_info": {
   "codemirror_mode": {
    "name": "ipython",
    "version": 3
   },
   "file_extension": ".py",
   "mimetype": "text/x-python",
   "name": "python",
   "nbconvert_exporter": "python",
   "pygments_lexer": "ipython3",
   "version": "3.11.4"
  }
 },
 "nbformat": 4,
 "nbformat_minor": 2
}
