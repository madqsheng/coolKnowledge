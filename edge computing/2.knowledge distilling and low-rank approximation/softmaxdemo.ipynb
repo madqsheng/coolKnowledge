{
 "cells": [
  {
   "cell_type": "code",
   "execution_count": 4,
   "metadata": {},
   "outputs": [
    {
     "name": "stderr",
     "output_type": "stream",
     "text": [
      "/home/huan.wang/lessons/fastai-torch110/lib/python3.6/site-packages/ipykernel_launcher.py:18: UserWarning: Implicit dimension choice for softmax has been deprecated. Change the call to include dim=X as an argument.\n",
      "/home/huan.wang/lessons/fastai-torch110/lib/python3.6/site-packages/ipykernel_launcher.py:24: UserWarning: Implicit dimension choice for softmax has been deprecated. Change the call to include dim=X as an argument.\n",
      "/home/huan.wang/lessons/fastai-torch110/lib/python3.6/site-packages/ipykernel_launcher.py:30: UserWarning: Implicit dimension choice for softmax has been deprecated. Change the call to include dim=X as an argument.\n"
     ]
    },
    {
     "data": {
      "image/png": "[encoded data removed]",
      "text/plain": [
       "<Figure size 432x288 with 1 Axes>"
      ]
     },
     "metadata": {
      "needs_background": "light"
     },
     "output_type": "display_data"
    }
   ],
   "source": [
    "import numpy as np\n",
    "import matplotlib.pyplot as plt\n",
    "import torch \n",
    "import  torch.nn.functional as F\n",
    "\n",
    "# 根据均值、标准差,求指定范围的正态分布概率值\n",
    "def normfun(x, mu, sigma):\n",
    "    pdf = np.exp(-((x - mu)**2)/(2*sigma**2)) / (sigma * np.sqrt(2*np.pi))\n",
    "    return pdf\n",
    "\n",
    "x = np.arange(-10, 10, 0.1)\n",
    "# 均值0.5 方差1 概率分布\n",
    "y = normfun(x, 0.5, 1)\n",
    "\n",
    "T = 1\n",
    "y /= T\n",
    "\n",
    "z = F.softmax(torch.tensor(y))\n",
    "# plt.plot(x, z.numpy(), label=\"T = {0}\".format(T))\n",
    "\n",
    "T = 2\n",
    "y /= T\n",
    "\n",
    "z = F.softmax(torch.tensor(y))\n",
    "# plt.plot(x, z.numpy(), label=\"T = {0}\".format(T))\n",
    "\n",
    "T = 4\n",
    "y /= T\n",
    "\n",
    "z = F.softmax(torch.tensor(y))\n",
    "# plt.plot(x, z.numpy(), label=\"T = {0}\".format(T))\n",
    "\n",
    "plt.plot(x, y, label=\"y distribution\")\n",
    "\n",
    "plt.legend(loc=\"lower right\")\n",
    "plt.show()"
   ]
  },
  {
   "cell_type": "code",
   "execution_count": 12,
   "metadata": {},
   "outputs": [
    {
     "name": "stdout",
     "output_type": "stream",
     "text": [
      "torch.Size([6, 64, 766])\n",
      "torch.Size([6, 64, 766])\n"
     ]
    }
   ],
   "source": [
    "import torch\n",
    "i= torch.randn(6, 512, 768) \n",
    "\n",
    "conv=torch.nn.Conv1d(512,64,3)\n",
    "out=conv(i)\n",
    "print(out.shape)\n",
    "\n",
    "i= torch.randn(6,512, 768) \n",
    "conv1=torch.nn.Conv1d(512,64,(3,))\n",
    "out=conv1(i)\n",
    "print(out.shape)"
   ]
  }
 ],
 "metadata": {
  "interpreter": {
   "hash": "374fbd2ee474b3c2e2c20a4c8f0e793d15fc8310f93cfe7d25a3e012a639abbc"
  },
  "kernelspec": {
   "display_name": "Python 3.6.8 ('fastai-torch110')",
   "language": "python",
   "name": "python3"
  },
  "language_info": {
   "codemirror_mode": {
    "name": "ipython",
    "version": 3
   },
   "file_extension": ".py",
   "mimetype": "text/x-python",
   "name": "python",
   "nbconvert_exporter": "python",
   "pygments_lexer": "ipython3",
   "version": "3.11.4"
  },
  "orig_nbformat": 4
 },
 "nbformat": 4,
 "nbformat_minor": 2
}
